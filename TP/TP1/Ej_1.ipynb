{
 "cells": [
  {
   "cell_type": "markdown",
   "metadata": {},
   "source": [
    "# Ejercicio 1"
   ]
  },
  {
   "cell_type": "markdown",
   "metadata": {},
   "source": [
    "Se realizan 20 mediciones con un multímetro digital, repetidas en las mismas condiciones ambientales, obteniéndose  una media aritmética de 100,145 V  y una desviación estándar experimental (S) de 1,489V.\n",
    "\n",
    "El multímetro posee las siguientes especificaciones\n",
    "\n",
    "*\tRango: 200°C\n",
    "*\tDígitos: 3 y ½\n",
    "*\tError máximo = ±(0,5% lectura + 3 digitos)\n",
    "\n",
    "Expresar el resultado de la medición con una probabilidad del 95%\n"
   ]
  },
  {
   "cell_type": "markdown",
   "metadata": {},
   "source": [
    "Siendo la evaluacion tipo A:\n",
    "\n",
    "$$\n",
    "u_i = \\frac{S}{\\sqrt{N}}~~~~~~~S: desviacion~estandard~~~~N: cantidad~de~mediciones\n",
    "$$"
   ]
  },
  {
   "cell_type": "markdown",
   "metadata": {},
   "source": [
    "$$\n",
    "u_i = \\frac{1,489 V}{\\sqrt{20}}~~\\to~~u_i = 0,333 V\n",
    "$$"
   ]
  },
  {
   "cell_type": "markdown",
   "metadata": {},
   "source": [
    "Siendo la evaluacion tipo b:\n",
    "\n",
    "$$\n",
    "u_j = \\sqrt{Var(x)}~~~~~~~Var(x):~varianza = \\int_{a}^b x^2f(x)dx\n",
    "$$"
   ]
  },
  {
   "attachments": {
    "image.png": {
     "image/png": "[encoded data removed]"
    }
   },
   "cell_type": "markdown",
   "metadata": {},
   "source": [
    "Asumiendo una distribucion uniforme continua con la siguiente forma:\n",
    "\n",
    "![image.png](attachment:image.png)\n",
    "\n",
    "$$\n",
    "f(x) = \\left\\{\n",
    "    \\begin{array}\\\\\n",
    "        \\frac{1}{b-a} ~~\\mbox{if } \\ a\\leq x \\leq b \\\\\n",
    "        0\n",
    "    \\end{array}\n",
    "\\right.\n",
    "$$"
   ]
  },
  {
   "cell_type": "markdown",
   "metadata": {},
   "source": [
    "Siendo la varianza de la distribucion uniforme:\n",
    "\n",
    "$$\n",
    "Var(x) = \\frac{(b-a)^2}{12}\n",
    "$$"
   ]
  },
  {
   "cell_type": "markdown",
   "metadata": {},
   "source": [
    "Si consideramos b = -a:\n",
    "$$\n",
    "Var(x) = \\frac{(2a)^2}{12}~~\\to~~Var(x) = \\frac{a^2}{3}~~~~~~a: Precision\n",
    "$$"
   ]
  },
  {
   "cell_type": "markdown",
   "metadata": {},
   "source": [
    "Siendo la precision:\n",
    "\n",
    "$$\n",
    "a = \\Delta V .err\\%~~~~~~\\Delta V: valor~de~medicion~~~~err\\%: error~total~porcentual\n",
    "$$"
   ]
  },
  {
   "cell_type": "markdown",
   "metadata": {},
   "source": [
    "Siendo el error porcentual  total:\n",
    "\n",
    "$$\n",
    "err\\% = err_{med}\\% + err_{cont}\\%~~~~~~err_{med}\\%: error~de~medicion~~~~err_{cont}\\%: error~de~conteo\n",
    "$$"
   ]
  },
  {
   "cell_type": "markdown",
   "metadata": {},
   "source": [
    "Donde el error porcentual de conteo es:\n",
    "\n",
    "$$\n",
    "err_{cont}\\% = \\frac{total~de~conteos}{valor~de~cuentas~del~instrumento}~.~100\\%\n",
    "$$"
   ]
  },
  {
   "cell_type": "markdown",
   "metadata": {},
   "source": [
    "$$\n",
    "err_{cont}(3~conteos)\\% = \\frac{3.100}{1001} = 0,299\\%~~\\to~~err_{cont}(3~conteos)\\% = 0,3\\%\n",
    "$$"
   ]
  },
  {
   "cell_type": "markdown",
   "metadata": {},
   "source": [
    "$$\n",
    "err\\% = 0,5\\% + 0,3\\%~~\\to~~err\\% = 0,8\\%\n",
    "$$"
   ]
  },
  {
   "cell_type": "markdown",
   "metadata": {},
   "source": [
    "$$\n",
    "a = \\pm~100,145~V~.~0,8\\%~~\\to~~a = \\pm~0,8~V\n",
    "$$"
   ]
  },
  {
   "cell_type": "markdown",
   "metadata": {},
   "source": [
    "Calculando el error tipo B:\n",
    "\n",
    "$$\n",
    "u_j = \\sqrt{\\frac{a^2}{3}} = \\frac{a}{\\sqrt{3}}~~\\to~~u_j = \\frac{0,8~V}{\\sqrt{3}}~~\\to~~u_j = 0,46~V\n",
    "$$"
   ]
  },
  {
   "cell_type": "markdown",
   "metadata": {},
   "source": [
    "Siendo la incertidumbre combinada:\n",
    "\n",
    "$$\n",
    "u_c = \\sqrt{u_i^2+u_j^2}~~\\to~~u_c = \\sqrt{(0,333~V)^2 + (0,46~V)^2}~~\\to~~u_c = 0,57~V\n",
    "$$"
   ]
  },
  {
   "cell_type": "markdown",
   "metadata": {},
   "source": [
    "Calculando los grados de libertad:\n",
    "\n",
    "$$\n",
    "v_{eff} = \\frac{u_C^4(y)}{\\sum_{i=1}^{N}\\frac{C_i^4u_i^4(x_i)}{v_i}}~~~~c_i: correlacion~~~~vi: N-1\n",
    "$$"
   ]
  },
  {
   "cell_type": "markdown",
   "metadata": {},
   "source": [
    "Calculando con los valores correspondientes:\n",
    "\n",
    "$$\n",
    "u_c^4 = 0,105 V^4~~~~u_i^4 = 0,0123 V^4~~~~c_i = 1~~~~v_i = 19\n",
    "$$"
   ]
  },
  {
   "cell_type": "markdown",
   "metadata": {},
   "source": [
    "$$\n",
    "V_{eff} = 162 > 100~~\\to~~puedo~asumir~distribucion~normal~~\\therefore~~k_{expansion} = 2\n",
    "$$"
   ]
  },
  {
   "cell_type": "markdown",
   "metadata": {},
   "source": [
    "Siendo la incertidumbre expandida:\n",
    "\n",
    "$$\n",
    "U(V) = k_{expansion} . u_c = 2~.~0,57 V~~\\to~~U(V) = 1,14 V\n",
    "$$"
   ]
  },
  {
   "cell_type": "markdown",
   "metadata": {},
   "source": [
    "Por lo que el valor de la tension medida con un grado de confianza de 95% es:\n",
    "\n",
    "$$\n",
    "\\hat{V} = (100,145~;\\pm~1,14)~V\n",
    "$$"
   ]
  }
 ],
 "metadata": {
  "kernelspec": {
   "display_name": "Python 3",
   "language": "python",
   "name": "python3"
  },
  "language_info": {
   "codemirror_mode": {
    "name": "ipython",
    "version": 3
   },
   "file_extension": ".py",
   "mimetype": "text/x-python",
   "name": "python",
   "nbconvert_exporter": "python",
   "pygments_lexer": "ipython3",
   "version": "3.7.4"
  }
 },
 "nbformat": 4,
 "nbformat_minor": 2
}

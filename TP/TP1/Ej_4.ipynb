{
 "cells": [
  {
   "cell_type": "markdown",
   "metadata": {},
   "source": [
    "# Ejercicio 4"
   ]
  },
  {
   "cell_type": "markdown",
   "metadata": {},
   "source": [
    "En una resistencia alimentada con una fuente de corriente de 10A, ±0,1% según expresaba su certificado de calibración con distribución normal y un intervalo de confianza del 95%, se obtuvo una medición de 123,38V y un desvío estándar experimental de 50mV con un voltímetro digital de de 4 ¾ dígitos y un error de ±(0,04%+1d) rangos de 400mV, 4V, 40V, 400V. Utilizando dicha resistencia como medidor indirecto de corriente, se midió sobre ella una tensión, con el voltímetro anterior, obteniéndose una indicación de 346,42mV y un desvío estándar experimental de 0,50mV. Determinar:\n",
    "\n",
    "- a)  Característica de la resistencia.\n",
    "- b)  El resultado de ambas mediciones. \n",
    "- c)   Indique la potencia disipada en ambas mediciones."
   ]
  },
  {
   "cell_type": "markdown",
   "metadata": {},
   "source": [
    "### Parte A"
   ]
  },
  {
   "cell_type": "markdown",
   "metadata": {},
   "source": []
  },
  {
   "cell_type": "markdown",
   "metadata": {},
   "source": [
    "### Parte B"
   ]
  },
  {
   "cell_type": "markdown",
   "metadata": {},
   "source": [
    "Dado que en el enunciado no indica la cantidad de muestras que se tomaron al momento de realizar la medicion, no es posible calcular el error tipo A (solo contamos con el valor medio de la tension y su desvio estandar)."
   ]
  },
  {
   "cell_type": "markdown",
   "metadata": {},
   "source": [
    "Siendo el error tipo B:\n",
    "\n",
    "$$\n",
    "u_j(x) = \\sqrt{Var(x)}~~~~~~~Var(x):~varianza = \\int_{a}^b x^2f(x)dx\n",
    "$$"
   ]
  },
  {
   "cell_type": "markdown",
   "metadata": {},
   "source": [
    "Asumiendo que la medicion tiene una distribucion uniforme continua:\n",
    "\n",
    "$$\n",
    "Var(x) = \\frac{a^2}{3}~~~~~~a: Precision\n",
    "$$"
   ]
  },
  {
   "cell_type": "markdown",
   "metadata": {},
   "source": [
    "Siendo la precision:\n",
    "\n",
    "$$\n",
    "a = \\Delta V .err\\%~~~~~~\\Delta V: valor~de~medicion~~~~err\\%: error~total~porcentual\n",
    "$$"
   ]
  },
  {
   "cell_type": "markdown",
   "metadata": {},
   "source": [
    "Siendo el error porcentual  total:\n",
    "\n",
    "$$\n",
    "err\\% = err_{med}\\% + err_{cont}\\%~~~~~~err_{med}\\%: error~de~medicion~~~~err_{cont}\\%: error~de~conteo\n",
    "$$"
   ]
  },
  {
   "cell_type": "markdown",
   "metadata": {},
   "source": [
    "Donde el error porcentual de conteo es:\n",
    "\n",
    "$$\n",
    "err_{cont}\\% = \\frac{total~de~conteos}{valor~de~cuentas~del~instrumento}~.~100\\%\n",
    "$$"
   ]
  },
  {
   "cell_type": "markdown",
   "metadata": {},
   "source": [
    "$$\n",
    "err_{cont}(1~conteo)\\% = \\frac{1}{12338}~.100\\%~~\\to~~err_{cont}(1~conteo)\\% = 0,008\\%\n",
    "$$"
   ]
  },
  {
   "cell_type": "markdown",
   "metadata": {},
   "source": [
    "$$\n",
    "err\\% = 0,04\\% + 0,008\\%~~\\to~~err\\% = 0,048\\%\n",
    "$$"
   ]
  },
  {
   "cell_type": "markdown",
   "metadata": {},
   "source": [
    "$$\n",
    "a = \\pm~123,38~V~.~0,048\\%~~\\to~~a = \\pm~0,0592~V\n",
    "$$"
   ]
  },
  {
   "cell_type": "markdown",
   "metadata": {},
   "source": [
    "Calculando el error tipo B de $V_1$:\n",
    "\n",
    "$$\n",
    "u_j(V_1) = \\sqrt{\\frac{a^2}{3}} = \\frac{a}{\\sqrt{3}}~~\\to~~u_j(V_1) = \\frac{0,0592~V}{\\sqrt{3}}~~\\to~~u_j(V_1) = 31,18x10^{-3}~V\n",
    "$$"
   ]
  },
  {
   "cell_type": "markdown",
   "metadata": {},
   "source": [
    "Calculando la incertidumbre combinada de $V_1$:\n",
    "\n",
    "$$\n",
    "u_c(V_1) = \\sqrt{u_i^2+u_j^2}~~\\to~~u_c(V_1) = \\sqrt{(0~V)^2 + (31,18x10^{-3}V)^2}~~\\to~~u_c(V_1) = 31,18x10^{-3}V\n",
    "$$"
   ]
  },
  {
   "cell_type": "markdown",
   "metadata": {},
   "source": [
    "Calculando el error tipo B de $I_1$:\n",
    "\n",
    "$$\n",
    "a = \\Delta I~.~err\\% = 10~A~.~0,1\\%~~\\to~~a = 10x10^{-3}~A\n",
    "$$"
   ]
  },
  {
   "cell_type": "markdown",
   "metadata": {},
   "source": [
    "$$\n",
    "u_j(I_1) = \\sqrt{\\frac{a^2}{3}} = \\frac{a}{\\sqrt{3}}~~\\to~~u_j(I_1) = \\frac{10x10^{-3}~A}{\\sqrt{3}}~~\\to~~u_j(I_1) = 5,774x10^{-3}~A\n",
    "$$"
   ]
  },
  {
   "cell_type": "markdown",
   "metadata": {},
   "source": [
    "Calculando la incertidumbre combinada de $I_1$:\n",
    "\n",
    "$$\n",
    "u_c(I_1) = \\sqrt{u_i^2+u_j^2}~~\\to~~u_c(I_1) = \\sqrt{(0~A)^2 + (5,774x10^{-3}~A)^2}~~\\to~~u_c(I_1) = 5,774x10^{-3}~A\n",
    "$$"
   ]
  },
  {
   "cell_type": "markdown",
   "metadata": {},
   "source": [
    "Estimando $\\bar{R}$:\n",
    "\n",
    "$$\n",
    "\\bar{R} = \\frac{\\bar{V}}{\\bar{I}} = \\frac{123,38~V}{10~A}~~\\to~~\\bar{R} = 12,338~\\Omega\n",
    "$$"
   ]
  },
  {
   "cell_type": "markdown",
   "metadata": {},
   "source": [
    "Siendo el cuadrado de la incertidumbre combinada:\n",
    "\n",
    "$$\n",
    "u_{c}^2(y) = \\sum_{i=1}^{N} (\\frac{\\partial f}{\\partial x_i})^2~.~u^2(x_i)~+~2\\sum_{i=1}^{N-1}\\sum_{j=i+1}^{N}\\frac{\\partial f}{\\partial x_i}\\frac{\\partial f}{\\partial x_j}~.~u(x_i, x_j)\n",
    "$$"
   ]
  },
  {
   "cell_type": "markdown",
   "metadata": {},
   "source": [
    "Calculando el cuadrado de la incertidumbre combinada de $\\bar{R}$:\n",
    "\n",
    "$$\n",
    "u_c^2(R) = (\\frac{1}{\\bar{I}})^2~.~u_c^2(V) + (\\frac{-\\bar{V}}{\\bar{I}^2})^2~.~u_c^2(I) + 2~\\frac{1}{\\bar{I}}~.~\\frac{-\\bar{V}}{\\bar{I}^2}~.~u_c(V)~.~u_c(I)~.~r(V,I)\n",
    "$$"
   ]
  },
  {
   "cell_type": "markdown",
   "metadata": {},
   "source": [
    "Siendo el coeficiente de correlacion lineal:\n",
    "\n",
    "$$\n",
    "r(X,Y) = \\frac{\\sum_{i=1}^{N}[(X_i - \\bar{X})(Y_i - \\bar{Y})]}{\\sqrt{\\sum_{i=1}^{N}(X_i - \\bar{X})^2~.~\\sum_{i=1}^{N}(Y_i - \\bar{Y})^2}}\n",
    "$$"
   ]
  },
  {
   "cell_type": "markdown",
   "metadata": {},
   "source": [
    "De esta formula se observa que, al no conocer los valores de las muestras, no es posible calcular la correlacion entre ambas variables. Es por esto que no es posible realizar un analisis de correlacion, por lo que r(V, I) = 0. Por lo tanto, la expresion de la incertidumbre combinada de $R$ queda de la siguiente manera:\n",
    "\n",
    "$$\n",
    "u_c(R) = \\sqrt{(\\frac{1}{\\bar{I}})^2~.~u_c^2(V) + (\\frac{-\\bar{V}}{\\bar{I}^2})^2~.~u_c^2(I)}\n",
    "$$"
   ]
  },
  {
   "cell_type": "markdown",
   "metadata": {},
   "source": [
    "$$\n",
    "u_c(R) = \\sqrt{(\\frac{1}{10~A})^2~.~(31,18x10^{-3}V)^2 + (\\frac{-123,38~V}{(10~A)^2})^2~.~(5,774x10^{-3}~A)^2}\n",
    "$$"
   ]
  },
  {
   "cell_type": "markdown",
   "metadata": {},
   "source": [
    "$$\n",
    "u_c(R) = 7,776x10^{-3}~\\Omega\n",
    "$$"
   ]
  },
  {
   "cell_type": "markdown",
   "metadata": {},
   "source": [
    "Dado que es posible asumir que los grados de libertad obtenidos del error tipo B son infinitos, esp osible ajustar la distribucion de la incertidumbre combinada de $\\bar{R}$ a una distribucion normal. Por lo tanto, el factor de expansion sera:\n",
    "\n",
    "$$\n",
    "k_{expansion} = 2\n",
    "$$"
   ]
  },
  {
   "cell_type": "markdown",
   "metadata": {},
   "source": [
    "Siendo la incertidumbre expandida:\n",
    "\n",
    "$$\n",
    "u(R) = k_{expansion}~.~u_c^2(R) = 2~.~7,776x10^{-3}~\\Omega~~\\to~~u(R) = 15,552x10^{-3}~\\Omega\n",
    "$$"
   ]
  },
  {
   "cell_type": "markdown",
   "metadata": {},
   "source": [
    "Por lo que el valor de $\\hat{R}$ es igual a:\n",
    "\n",
    "$$\n",
    "\\hat{R} = (12,338~;\\pm15,552x10^{-3})~\\Omega\n",
    "$$"
   ]
  },
  {
   "cell_type": "markdown",
   "metadata": {},
   "source": [
    "Calculando el error tipo B para $V_2$:\n",
    "\n",
    "$$\n",
    "err_{cont}(1~conteo)\\% = \\frac{1}{34642}~.100\\%~~\\to~~err_{cont}(1~conteo)\\% = 0,003\\%\n",
    "$$"
   ]
  },
  {
   "cell_type": "markdown",
   "metadata": {},
   "source": [
    "$$\n",
    "err\\% = 0,04\\% + 0,003\\%~~\\to~~err\\% = 0,043\\%\n",
    "$$"
   ]
  },
  {
   "cell_type": "markdown",
   "metadata": {},
   "source": [
    "$$\n",
    "a = \\pm~346,42x10^{-3}~V~.~0,043\\%~~\\to~~a = \\pm~148,96x10^{-6}~V\n",
    "$$"
   ]
  },
  {
   "cell_type": "markdown",
   "metadata": {},
   "source": [
    "$$\n",
    "u_j(\\bar{V}_2) = \\frac{148,96x10^{-6}~V}{\\sqrt{3}}~~\\to~~u_j(\\bar{V}_2) = 66,002x10^{-6}~V\n",
    "$$"
   ]
  },
  {
   "cell_type": "markdown",
   "metadata": {},
   "source": [
    "Calculando la incertidumbre combinada de $V_2$:\n",
    "\n",
    "$$\n",
    "u_c(V_2) = \\sqrt{u_i^2+u_j^2}~~\\to~~u_c(V_2) = \\sqrt{(0~V)^2 + (66,002x10^{-6}~V)^2}~~\\to~~u_c(V_2) = 66,002x10^{-6}~V\n",
    "$$"
   ]
  },
  {
   "cell_type": "markdown",
   "metadata": {},
   "source": [
    "Estimando $\\bar{I}_2$:\n",
    "\n",
    "$$\n",
    "\\bar{I}_2 = \\frac{\\bar{V}_2}{\\bar{R}} = \\frac{346,42x10^{-3}~V}{12,338~\\Omega}~~\\to~~\\bar{I}_2 = 28,077x10^{-3}~A\n",
    "$$"
   ]
  },
  {
   "cell_type": "markdown",
   "metadata": {},
   "source": [
    "Calculando la incertidumbre combinada de $I_2$:\n",
    "\n",
    "$$\n",
    "u_c(I_2) = \\sqrt{(\\frac{1}{\\bar{R}})^2~.~u_c^2(V) + (\\frac{-\\bar{V}}{\\bar{R}^2})^2~.~u_c^2(R)}\n",
    "$$"
   ]
  },
  {
   "cell_type": "markdown",
   "metadata": {},
   "source": [
    "$$\n",
    "u_c(I_2) = \\sqrt{(\\frac{1}{12,338~\\Omega})^2~.~(66,002x10^{-6}~V)^2 + (\\frac{-346,42x10^{-3}~V}{(12,338~\\Omega)^2})^2~.~(7,776x10^{-3}~\\Omega)^2}\n",
    "$$"
   ]
  },
  {
   "cell_type": "markdown",
   "metadata": {},
   "source": [
    "$$\n",
    "u_c(I_2) = 18,487x10^{-6}~A\n",
    "$$"
   ]
  },
  {
   "cell_type": "markdown",
   "metadata": {},
   "source": [
    "Siendo el factor de expansion k igual a 2, se calcula la incertidumbre expandida:\n",
    "\n",
    "$$\n",
    "u(I_2) = k_{expansion}~.~u_c^2(I_2) = 2~.~18,487x10^{-6}~A~~\\to~~u(I_2) = 36,974x10^{-6}~A\n",
    "$$"
   ]
  },
  {
   "cell_type": "markdown",
   "metadata": {},
   "source": [
    "Por lo que el valor de $\\hat{I}_2$ es igual a:\n",
    "\n",
    "$$\n",
    "\\hat{I}_2 = (28,077x10^{-3}~;\\pm36,974x10^{-6})~A\n",
    "$$"
   ]
  },
  {
   "cell_type": "markdown",
   "metadata": {},
   "source": [
    "### Parte C"
   ]
  },
  {
   "cell_type": "markdown",
   "metadata": {},
   "source": [
    "Siendo la potencia $P_1$:\n",
    "\n",
    "$$\n",
    "\\bar{P}_1 = \\bar{V}_1~.~\\bar{I}_1~~\\to~~\\bar{P}_1 = 123,38~V~.~10~A~~\\to~~\\bar{P}_1 = 1233,8~W\n",
    "$$"
   ]
  },
  {
   "cell_type": "markdown",
   "metadata": {},
   "source": [
    "Calculando la incertidumbre combinada de $P_1$:\n",
    "\n",
    "$$\n",
    "u_c(P_1) = \\sqrt{(\\bar{I_1})^2~.~u_c^2(V_1) + (\\bar{V_1})^2~.~u_c^2(I_1)}\n",
    "$$"
   ]
  },
  {
   "cell_type": "markdown",
   "metadata": {},
   "source": [
    "$$\n",
    "u_c(P_1) = \\sqrt{(10~A)^2~.~(31,18x10^{-3}V)^2 + (123,38~V)^2~.~(5,774x10^{-3}~A)^2}\n",
    "$$"
   ]
  },
  {
   "cell_type": "markdown",
   "metadata": {},
   "source": [
    "$$\n",
    "u_c(P_1) = 0,778~W\n",
    "$$"
   ]
  },
  {
   "cell_type": "markdown",
   "metadata": {},
   "source": [
    "Siendo el factor de expansion k igual a 2, se calcula la incertidumbre expandida:\n",
    "\n",
    "$$\n",
    "u(P_1) = k_{expansion}~.~u_c^2(P_1) = 2~.~0,778~W~~\\to~~u(P_1) = 1,556~W\n",
    "$$"
   ]
  },
  {
   "cell_type": "markdown",
   "metadata": {},
   "source": [
    "Por lo que el valor de $\\hat{P}_1$ es igual a:\n",
    "\n",
    "$$\n",
    "\\hat{P}_1 = (1233,8~;\\pm1,556)~W\n",
    "$$"
   ]
  },
  {
   "cell_type": "markdown",
   "metadata": {},
   "source": [
    "Siendo la potencia $P_2$:\n",
    "\n",
    "$$\n",
    "\\bar{P}_2 = \\frac{\\bar{V}^2_2}{\\bar{R}}~~\\to~~\\bar{P}_2 = \\frac{(346,42x10^{-3}~V)^2}{12,338~\\Omega}~~\\to~~\\bar{P}_2 = 9,727x10^{-3}~W\n",
    "$$"
   ]
  },
  {
   "cell_type": "markdown",
   "metadata": {},
   "source": [
    "Calculando la incertidumbre combinada de $P_2$:\n",
    "\n",
    "$$\n",
    "u_c(P_2) = \\sqrt{(2~.~\\frac{\\bar{V_2}}{\\bar{R}})^2~.~u_c^2(V_2) + (\\frac{-\\bar{V}_2^2}{\\bar{R}^2})^2~.~u_c^2(R)}\n",
    "$$"
   ]
  },
  {
   "cell_type": "markdown",
   "metadata": {},
   "source": [
    "$$\n",
    "u_c(P_2) = \\sqrt{(2~.~\\frac{346,42x10^{-3}~V}{12,338~\\Omega})^2~.~(66,002x10^{-6}~V)^2 + (\\frac{-(346,42x10^{-3}~V)^2}{(12,338~\\Omega)^2})^2~.~(7,776x10^{-3}~\\Omega)^2}\n",
    "$$"
   ]
  },
  {
   "cell_type": "markdown",
   "metadata": {},
   "source": [
    "$$\n",
    "u_c(P_2) = 7,164x10^{-6}~W\n",
    "$$"
   ]
  },
  {
   "cell_type": "markdown",
   "metadata": {},
   "source": [
    "Siendo el factor de expansion k igual a 2, se calcula la incertidumbre expandida:\n",
    "\n",
    "$$\n",
    "u(P_2) = k_{expansion}~.~u_c^2(P_2) = 2~.~7,164x10^{-3}~W~~\\to~~u(P_2) = 14,327x10^{-6}~W\n",
    "$$"
   ]
  },
  {
   "cell_type": "markdown",
   "metadata": {},
   "source": [
    "Por lo que el valor de $\\hat{P}_2$ es igual a:\n",
    "\n",
    "$$\n",
    "\\hat{P}_2 = (9,727x10^{-3}~;\\pm14,327x10^{-6})~W\n",
    "$$"
   ]
  }
 ],
 "metadata": {
  "kernelspec": {
   "display_name": "Python 3",
   "language": "python",
   "name": "python3"
  },
  "language_info": {
   "codemirror_mode": {
    "name": "ipython",
    "version": 3
   },
   "file_extension": ".py",
   "mimetype": "text/x-python",
   "name": "python",
   "nbconvert_exporter": "python",
   "pygments_lexer": "ipython3",
   "version": "3.7.4"
  }
 },
 "nbformat": 4,
 "nbformat_minor": 2
}

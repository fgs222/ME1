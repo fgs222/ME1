{
 "cells": [
  {
   "cell_type": "markdown",
   "metadata": {},
   "source": [
    "# Ejercicio 1"
   ]
  },
  {
   "cell_type": "markdown",
   "metadata": {},
   "source": [
    "Un generador de pulsos rectangulares de Z=50Ω entrega una tensión cuya frecuencia medida con un frecuencímetro digital es de 500Hz. Se dispone de los siguientes voltímetros:\n",
    "\n",
    "- V1: Voltímetro digital responde al valor máximo. \tRango de 2V : (0.05% + 2d )\n",
    "- V2: Voltímetro digital responde al valor medio de módulo. Rango de 2V : (0.05% + 2d )\n",
    "- V3: Voltímetro digital en la escala de 2VDC. (0.5% + 2d )\n",
    "\n",
    "Donde se obtuvieron los siguientes valores:\n",
    "- Vi1: 0.850 V\n",
    "- Vi2: 0.553 V\n",
    "- Vi3: 0.360 V\n"
   ]
  },
  {
   "cell_type": "markdown",
   "metadata": {},
   "source": [
    "a) ¿Cuáles son los problemas típicos que se presentan cuando se miden señales no senoidales con multímetros? (teórico)\n",
    "Indicar el ciclo de actividad de la señal con su incertidumbre. <br>\n",
    "b) Indicar el ciclo de actividad de la señal con su incertidumbre. <br>\n",
    "c) Calcular, en base a la medición de voltímetro 1 y un factor de corrección, el valor RMS de AC. <br>\n",
    "d) Calcular, en base a la medición del voltímetro 2 y un factor de corrección más el voltímetro 3, el valor RMS de la señal de AC+DC.\n"
   ]
  },
  {
   "cell_type": "markdown",
   "metadata": {},
   "source": [
    "### Parte A"
   ]
  },
  {
   "cell_type": "markdown",
   "metadata": {},
   "source": [
    "Un multimetro que esta calibrado para una señal senoidal tiene un factor de calibracion para obtener el valor eficaz de una señal senoidal. Por lo tanto, el valor eficaz que indica para una señal no senoidal no corresponde al valor eficaz real de la señal."
   ]
  },
  {
   "cell_type": "markdown",
   "metadata": {},
   "source": [
    "### Parte B"
   ]
  },
  {
   "cell_type": "markdown",
   "metadata": {},
   "source": [
    "Definimos las siguiente ecuaciones:\n",
    "\n",
    "$$\n",
    "S_{i1} = S_{pp}~.~(1 - \\delta)~.~\\frac{1}{\\sqrt{2}}~~~~~~~~con~\\delta = \\frac{\\tau}{T}\n",
    "$$\n",
    "\n",
    "$$\n",
    "S_{i2} = S_{pp}~.~(1 - \\delta)~.~\\delta~.~\\frac{\\pi}{\\sqrt{2}}~~~~~~~~con~\\delta = \\frac{\\tau}{T}\n",
    "$$"
   ]
  },
  {
   "cell_type": "markdown",
   "metadata": {},
   "source": [
    "Siendo el cociente de los valores indicados en 1 y 2:\n",
    "\n",
    "$$\n",
    "\\frac{S_{i1}}{S_{i2}} = \\frac{S_{pp}~.~(1 - \\delta)~.~\\frac{1}{\\sqrt{2}}}{S_{pp}~.~(1 - \\delta)~.~\\delta~.~\\frac{\\pi}{\\sqrt{2}}} = \\frac{1}{\\pi\\delta}\n",
    "$$"
   ]
  },
  {
   "cell_type": "markdown",
   "metadata": {},
   "source": [
    "Del cociente de los valores indicados podemos obtener el valor de $\\delta$:\n",
    "\n",
    "$$\n",
    "\\delta = \\frac{S_{i2}}{\\pi~.~S_{i1}}\n",
    "$$"
   ]
  },
  {
   "cell_type": "code",
   "execution_count": 1,
   "metadata": {},
   "outputs": [
    {
     "name": "stdout",
     "output_type": "stream",
     "text": [
      "El valor del ciclo de actividad es: 20.71 %\n"
     ]
    }
   ],
   "source": [
    "from numpy import pi, sqrt\n",
    "\n",
    "SI = [0.850, 0.553, 0.360]\n",
    "\n",
    "delta = SI[1] / (pi * SI[0])\n",
    "\n",
    "print('El valor del ciclo de actividad es: {:.2f} %'.format(delta * 100))"
   ]
  },
  {
   "cell_type": "markdown",
   "metadata": {},
   "source": [
    "Calculando el error tipo B del voltimetro 1:\n",
    "\n",
    "$$\n",
    "u_j(S_{i1}) = \\frac{a_1}{\\sqrt{3}}~~~~~~~~~~a_1 = \\Delta V_1 .err_1\\%~~~~~~~~err_2\\% = err_{med1}\\% + err_{cont1}~~~~~~~~err_{cont1}\\% = \\frac{total~de~conteos}{valor~de~cuentas~del~instrumento}~.~100\\%\n",
    "$$"
   ]
  },
  {
   "cell_type": "code",
   "execution_count": 2,
   "metadata": {},
   "outputs": [
    {
     "name": "stdout",
     "output_type": "stream",
     "text": [
      "El error tipo B del voltrimetro 1 es: 0.0014000744027848427 V\n"
     ]
    }
   ],
   "source": [
    "CONTEOS = 2\n",
    "CUENTAS = [850, 553]\n",
    "ERR_MED = 0.05\n",
    "\n",
    "err_c = CONTEOS / CUENTAS[0] * 100\n",
    "err1 = ERR_MED + err_c\n",
    "\n",
    "a1 = SI[0] * err1 / 100\n",
    "uj_s1 = a1 / sqrt(3)\n",
    "\n",
    "print(\"El error tipo B del voltrimetro 1 es: {} V\".format(uj_s1))"
   ]
  },
  {
   "cell_type": "markdown",
   "metadata": {},
   "source": [
    "Calculando el error tipo B del voltimetro 2:\n",
    "\n",
    "$$\n",
    "u_j(S_{i2}) = \\frac{a_2}{\\sqrt{3}}~~~~~~~~~~a_2 = \\Delta V_2 .err_2\\%~~~~~~~~err_2\\% = err_{med2}\\% + err_{cont2}~~~~~~~~err_{cont2}\\% = \\frac{total~de~conteos}{valor~de~cuentas~del~instrumento}~.~100\\%\n",
    "$$"
   ]
  },
  {
   "cell_type": "code",
   "execution_count": 3,
   "metadata": {},
   "outputs": [
    {
     "name": "stdout",
     "output_type": "stream",
     "text": [
      "El error tipo B del voltrimetro 2 es: 0.0013143378878101833 V\n"
     ]
    }
   ],
   "source": [
    "err_c = CONTEOS / CUENTAS[1] * 100\n",
    "err1 = ERR_MED + err_c\n",
    "\n",
    "a2 = SI[1] * err1 / 100\n",
    "uj_s2 = a2 / sqrt(3)\n",
    "\n",
    "print(\"El error tipo B del voltrimetro 2 es: {} V\".format(uj_s2))"
   ]
  },
  {
   "cell_type": "markdown",
   "metadata": {},
   "source": [
    "$$\n",
    "\\delta = \\frac{S_{i2}}{\\pi~.~S_{i1}}\n",
    "$$"
   ]
  },
  {
   "cell_type": "markdown",
   "metadata": {},
   "source": [
    "Siendo $\\delta$ una funcion del tipo:\n",
    "\n",
    "$$\n",
    "y = C~.~x^{E_1}_1~.~x^{E_2}_2~.~~.~x^{E_n}_n\n",
    "$$"
   ]
  },
  {
   "cell_type": "markdown",
   "metadata": {},
   "source": [
    "Donde:\n",
    "\n",
    "$$\n",
    "k_1 = \\frac{\\partial y}{\\partial x_1}~.~\\frac{\\bar{x_1}}{\\bar{y}} = C~.~E_1~.~\\bar{X_1}^{E_1 - 1}~.~\\bar{X_2}^{E_2}~.~~.~\\bar{X_n}^{E_n}~.~\\frac{\\bar{x_1}}{C~.~x^{E_1}_1~.~x^{E_2}_2~.~~.~x^{E_n}_n} = E_1\n",
    "$$"
   ]
  },
  {
   "cell_type": "markdown",
   "metadata": {},
   "source": [
    "Por lo tanto la incertidumbre combinada relativa de $y$ es:\n",
    "\n",
    "$$\n",
    "u_{cr}(y) = \\sqrt{[E_1~.~u_r(x_1)]^2 + [E_2~.~u_r(x_2)]^2 + ... + [E_n~.~u_r(x_n)]^2}\n",
    "$$"
   ]
  },
  {
   "cell_type": "markdown",
   "metadata": {},
   "source": [
    "Por lo tanto, la incertidumbre combinada relativa de $\\delta$ es:\n",
    "\n",
    "$$\n",
    "u_{cr}(\\delta) = \\sqrt{[-1~.~\\frac{u_j(S_{i1})}{S_{i1}}]^2 + [1~.~\\frac{u_j(S_{i2})}{S_{i2}}]^2}\n",
    "$$"
   ]
  },
  {
   "cell_type": "code",
   "execution_count": 4,
   "metadata": {},
   "outputs": [
    {
     "name": "stdout",
     "output_type": "stream",
     "text": [
      "La incertidumbre combinada relativa del ciclo de actividad es: 0.0028917105468507444 \n"
     ]
    }
   ],
   "source": [
    "ucr = sqrt( (-1 * ( uj_s1 / SI[0] )) ** 2 + (1 * ( uj_s2 / SI[1] )) ** 2 )\n",
    "\n",
    "print(\"La incertidumbre combinada relativa del ciclo de actividad es: {} \".format(ucr))"
   ]
  },
  {
   "cell_type": "markdown",
   "metadata": {},
   "source": [
    "Siendo la incertidumbre combinada de $\\delta$:\n",
    "\n",
    "$$\n",
    "u_c(\\delta) = u_{cr}(\\delta)~.~\\delta\n",
    "$$"
   ]
  },
  {
   "cell_type": "code",
   "execution_count": 5,
   "metadata": {},
   "outputs": [
    {
     "name": "stdout",
     "output_type": "stream",
     "text": [
      "La incertidumbre combinada del ciclo de actividad es: 0.05988404828701456 %\n"
     ]
    }
   ],
   "source": [
    "uc = ucr * delta\n",
    "\n",
    "print(\"La incertidumbre combinada del ciclo de actividad es: {} %\".format(uc * 100))"
   ]
  },
  {
   "cell_type": "markdown",
   "metadata": {},
   "source": [
    "Siendo la distribucion de la incertidumbre combinada normal:\n",
    "\n",
    "$$\n",
    "k_{expansion} = 2~~\\to~~U(\\delta) = k_{expansion}~.~u_c(\\delta)\n",
    "$$"
   ]
  },
  {
   "cell_type": "code",
   "execution_count": 6,
   "metadata": {},
   "outputs": [
    {
     "name": "stdout",
     "output_type": "stream",
     "text": [
      "La incertidumbre expandida del ciclo de actividad es: 0.11976809657402912 %\n"
     ]
    }
   ],
   "source": [
    "K = 2\n",
    "\n",
    "u = K * uc\n",
    "\n",
    "print(\"La incertidumbre expandida del ciclo de actividad es: {} %\".format(u * 100))"
   ]
  },
  {
   "cell_type": "markdown",
   "metadata": {},
   "source": [
    "Siendo el ciclo de actividad:\n",
    "\n",
    "$$\n",
    "\\delta = (20,71~;\\pm0,12)~\\%\n",
    "$$"
   ]
  },
  {
   "cell_type": "markdown",
   "metadata": {},
   "source": [
    "### Parte C"
   ]
  },
  {
   "cell_type": "markdown",
   "metadata": {},
   "source": [
    "Siendo el factor de correcion:\n",
    "\n",
    "$$\n",
    "F_{\\alpha\\beta} = \\frac{ \\frac{S_{\\beta}}{S_\\alpha} }{K_\\alpha}~~~~~~~\\beta: valor~a~determinar~~~~\\alpha: valor~del~instrumento\n",
    "$$"
   ]
  },
  {
   "cell_type": "markdown",
   "metadata": {},
   "source": [
    "Para obtener el valor eficaz a partir del valor maximo:\n",
    "\n",
    "$$\n",
    "F_{m+e} = \\frac{ \\frac{S_{e}}{S_{m+}} }{K_{m+}}\n",
    "$$"
   ]
  },
  {
   "cell_type": "markdown",
   "metadata": {},
   "source": [
    "Siendo el cociente del valor RMS sobre el valor maximo:\n",
    "\n",
    "$$\n",
    "\\frac{S_e}{S_{m+}} = \\frac{S_{pp}~.~\\sqrt{(1 - \\delta)~.~\\delta}}{S_{pp}~.~(1 - \\delta)} = \\frac{\\sqrt{(1 - \\delta)~.~\\delta}}{(1 - \\delta)} = \\sqrt{\\frac{(1 - \\delta)~.~\\delta}{(1 - \\delta)^2}} = \\sqrt{\\frac{\\delta}{(1 - \\delta)}} = \\sqrt{\\frac{1}{\\frac{1}{\\delta} - 1}}\n",
    "$$"
   ]
  },
  {
   "cell_type": "markdown",
   "metadata": {},
   "source": [
    "Siendo la constante de correcion del valor maximo:\n",
    "\n",
    "$$\n",
    "K_{m+} = \\frac{1}{\\sqrt{2}}\n",
    "$$"
   ]
  },
  {
   "cell_type": "markdown",
   "metadata": {},
   "source": [
    "Por lo tanto:\n",
    "\n",
    "$$\n",
    "F_{m+e} = \\sqrt{2}~.~\\sqrt{\\frac{1}{\\frac{1}{\\delta} - 1}}\n",
    "$$"
   ]
  },
  {
   "cell_type": "markdown",
   "metadata": {},
   "source": [
    "Siendo el valor RMS:\n",
    "\n",
    "$$\n",
    "S_e = F_{m+e}~.~S_{m+}\n",
    "$$"
   ]
  },
  {
   "cell_type": "code",
   "execution_count": 7,
   "metadata": {},
   "outputs": [
    {
     "name": "stdout",
     "output_type": "stream",
     "text": [
      "El valor RMS de AC a partir del valor del voltimetro 1 es : 0.8687899236227126 V\n"
     ]
    }
   ],
   "source": [
    "KMP1 = 1 / sqrt(2)\n",
    "COC1 = sqrt(2) * sqrt(1 / ( (1 / delta) - 1))\n",
    "FC1 = COC1 / KMP1\n",
    "\n",
    "se1 = FC1 * SI[0]\n",
    "\n",
    "print(\"El valor RMS de AC a partir del valor del voltimetro 1 es : {} V\".format(se1))"
   ]
  },
  {
   "cell_type": "markdown",
   "metadata": {},
   "source": [
    "Tiene sentido que el valor RMS de AC a partir del voltimetro 1 sea mayor que el valor medido por el voltimetro 1 debido a que el valor RMS de una señal cuadrada es mayor que el valor eficaz de una senoidal."
   ]
  },
  {
   "cell_type": "markdown",
   "metadata": {},
   "source": [
    "### Parte D"
   ]
  },
  {
   "cell_type": "markdown",
   "metadata": {},
   "source": [
    "Para obtener el valor medio a partir del valor medio de modulo:\n",
    "\n",
    "$$\n",
    "F_{|me|e} = \\frac{ \\frac{S_{e}}{S_{|me|}} }{K_{|me|}}\n",
    "$$"
   ]
  },
  {
   "cell_type": "markdown",
   "metadata": {},
   "source": [
    "Siendo el cociente entre el valor RMS y el valor medio de modulo:\n",
    "\n",
    "$$\n",
    "\\frac{S_{e}}{S_{|me|}} = \\frac{S_{pp}~.~\\sqrt{(1 - \\delta)~.~\\delta}}{2~.~S_{pp}~.~(1 - \\delta)~.~\\delta} = \\frac{\\sqrt{(1 - \\delta)~.~\\delta}}{2~.~(1 - \\delta)~.~\\delta} = \\frac{1}{2}~.~\\sqrt{ \\frac{(1 - \\delta)~.~\\delta}{(1 - \\delta)^2~.~\\delta^2} } = \\frac{1}{2~.~\\sqrt{(1 - \\delta)~.~\\delta} }\n",
    "$$"
   ]
  },
  {
   "cell_type": "markdown",
   "metadata": {},
   "source": [
    "Siendo la constante de correcion del valor medio de modulo:\n",
    "\n",
    "$$\n",
    "K_{m+} = \\frac{\\pi}{2~.~\\sqrt{2}}\n",
    "$$"
   ]
  },
  {
   "cell_type": "markdown",
   "metadata": {},
   "source": [
    "Por lo tanto:\n",
    "\n",
    "$$\n",
    "F_{|me|e} = \\frac{1}{2~.~\\sqrt{(1 - \\delta)~.~\\delta} }~.~\\frac{2~.~\\sqrt{2}}{\\pi} = \\frac{\\sqrt{2}}{\\pi~.~\\sqrt{(1 - \\delta)~.~\\delta} }\n",
    "$$"
   ]
  },
  {
   "cell_type": "markdown",
   "metadata": {},
   "source": [
    "Siendo el valor RMS:\n",
    "\n",
    "$$\n",
    "S_e = F_{|me|e}~.~S_{|me|}\n",
    "$$"
   ]
  },
  {
   "cell_type": "markdown",
   "metadata": {},
   "source": [
    "Siendo el valor de la suma de DC y AC en RMS:\n",
    "\n",
    "$$\n",
    "RMS_{AC+DC} = \\sqrt{ \\sum_{i}^{N}x^2_i }\n",
    "$$"
   ]
  },
  {
   "cell_type": "code",
   "execution_count": 9,
   "metadata": {},
   "outputs": [
    {
     "name": "stdout",
     "output_type": "stream",
     "text": [
      "El valor RMS de AC+DC a partir del valor del voltimetro 2 y 3 es : 0.7120378962486331 V\n"
     ]
    }
   ],
   "source": [
    "KMP2 = pi / (2 * sqrt(2))\n",
    "COC2 = 1 / ( 2 * sqrt( delta * (1 - delta) ))\n",
    "FC2 = COC2 / KMP2\n",
    "\n",
    "se2 = sqrt ( (FC2 * SI[1]) ** 2 + SI[2] ** 2)\n",
    "\n",
    "print(\"El valor RMS de AC+DC a partir del valor del voltimetro 2 y 3 es : {} V\".format(se2))"
   ]
  }
 ],
 "metadata": {
  "kernelspec": {
   "display_name": "Python 3",
   "language": "python",
   "name": "python3"
  },
  "language_info": {
   "codemirror_mode": {
    "name": "ipython",
    "version": 3
   },
   "file_extension": ".py",
   "mimetype": "text/x-python",
   "name": "python",
   "nbconvert_exporter": "python",
   "pygments_lexer": "ipython3",
   "version": "3.7.4"
  }
 },
 "nbformat": 4,
 "nbformat_minor": 2
}
